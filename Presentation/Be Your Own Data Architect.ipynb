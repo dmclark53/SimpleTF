{
 "cells": [
  {
   "cell_type": "code",
   "execution_count": 1,
   "metadata": {
    "slideshow": {
     "slide_type": "skip"
    }
   },
   "outputs": [],
   "source": [
    "import numpy as np\n",
    "import os\n",
    "import pandas as pd\n",
    "from pathlib import Path\n",
    "from sklearn.model_selection import train_test_split\n",
    "import seaborn as sns\n",
    "sns.set(color_codes=True)\n",
    "sns.set_context(\"notebook\")\n",
    "import tensorflow as tf\n",
    "from tensorflow.contrib.rnn import LSTMCell, DropoutWrapper, MultiRNNCell\n",
    "from natsort import natsorted\n",
    "\n",
    "from matplotlib import pyplot as plt\n",
    "%matplotlib inline"
   ]
  },
  {
   "cell_type": "markdown",
   "metadata": {
    "slideshow": {
     "slide_type": "slide"
    }
   },
   "source": [
    "<center><h1>Be Your Own Data Architect:</h1>\n",
    "<h2>Create Custom Datasets to Use for Machine Learning with TensorFlow</h2>\n",
    "\n",
    "<h3>David M. Clark</h3>\n",
    "<h3>February 15, 2018</h3></center>"
   ]
  },
  {
   "cell_type": "markdown",
   "metadata": {
    "slideshow": {
     "slide_type": "slide"
    }
   },
   "source": [
    "<h2><center>Outline</center></h2>\n",
    "<div class=\"row\" style=\"font-size: 24px\">\n",
    "    <div class=\"col-md-12\">\n",
    "        <ul>\n",
    "            <li>Talk divided into two parts:</li><br>\n",
    "            <ol>\n",
    "                <li>Background:</li>\n",
    "                <ul>\n",
    "                    <li>Introduction to neural networks.</li>\n",
    "                    <li>Basic principals of recurrent neural networks (RNNs).</li>\n",
    "                </ul>\n",
    "                <br><br>\n",
    "                <li>TensorFlow Model:</li>\n",
    "                <ul>\n",
    "                    <li>Generate a custom dataset.</li>\n",
    "                    <li>Setup and run a TensorFlow model.</li>\n",
    "                </ul>\n",
    "            </ol>\n",
    "        </ul>\n",
    "    </div>\n",
    "</div>"
   ]
  },
  {
   "cell_type": "markdown",
   "metadata": {
    "slideshow": {
     "slide_type": "slide"
    }
   },
   "source": [
    "<h2><center>What is a neural network?</center></h2>\n",
    "<div class=\"row\" style=\"font-size: 24px\">\n",
    "    <div class=\"col-md-6\">\n",
    "        <ul>\n",
    "            <li>A type of machine learning based on how the brain works.</li><br>\n",
    "        <br>\n",
    "            <li>Input is passed through neurons, which decide how important it is related to the output.</li><br>\n",
    "        <br>\n",
    "            <li>Inputs are weighted and a bias term is applied.</li><br>\n",
    "        <br>\n",
    "            <li>Decisions are made using an activation function.</li><br>\n",
    "        </ul>\n",
    "    </div>\n",
    "    <div class=\"col-md-6\">\n",
    "        <img src=\"images/tikz0-142ppv5.png\" style=\"width:300px\"><br>\n",
    "        <img src=\"images/VqOpE-1c4xc4y-300x153.jpg\" style=\"width:300px\">\n",
    "    </div>\n",
    "</div>\n",
    "<div class=\"row\" style=\"font-size: 10px\">\n",
    "    <div class=\"col-md-12\">\n",
    "        <p><a href=\"http://http://neuralnetworksanddeeplearning.com/\">Neural Networks and Deep Learning</a>\n",
    "    </div>\n",
    "</div>"
   ]
  },
  {
   "cell_type": "markdown",
   "metadata": {
    "slideshow": {
     "slide_type": "slide"
    }
   },
   "source": [
    "<h2><center>What is a neural network?</center></h2>\n",
    "<div class=\"row\" style=\"font-size: 24px\">\n",
    "    <div class=\"col-md-6\">\n",
    "        <ul>\n",
    "            <li>Many inputs can pass through a single neuron.</li>\n",
    "            <br>\n",
    "            <li>Hidden layer</li>\n",
    "            <ul>\n",
    "                <li>Layer of neurons between inputs and outputs.</li>\n",
    "                <li>More complex decision-making ability.</li>\n",
    "            </ul>\n",
    "            <br>\n",
    "            <li>Inputs, layers of neurons, outputs &#8658; neural network.</li>\n",
    "            <br>\n",
    "            <li>Deep learning</li>\n",
    "            <ul>\n",
    "                <li>Many hidden layers.</li>\n",
    "                <li>Can make very complex decisions.</li>\n",
    "            </ul>\n",
    "        </ul>\n",
    "    </div>\n",
    "    <div class=\"col-md-6\">\n",
    "        <img src=\"images/tikz41.png\" style=\"width:500px\"><br>\n",
    "    </div>\n",
    "</div>\n",
    "<div class=\"row\" style=\"font-size: 10px\">\n",
    "    <div class=\"col-md-12\">\n",
    "        <p><a href=\"http://http://neuralnetworksanddeeplearning.com/\">Neural Networks and Deep Learning</a>\n",
    "    </div>\n",
    "</div>"
   ]
  },
  {
   "cell_type": "markdown",
   "metadata": {
    "slideshow": {
     "slide_type": "slide"
    }
   },
   "source": [
    "<h2><center>Types of Deep Learning</center></h2>\n",
    "<h3><center>Convolution Neural Networks</center></h3>\n",
    "<div class=\"row\" style=\"font-size: 24px\">\n",
    "    <div class=\"col-md-12\">\n",
    "        <img src=\"images/cnn_example_image.png\" style=\"width:800px\">\n",
    "    </div>\n",
    "</div>\n",
    "<br>\n",
    "<div class=\"row\" style=\"font-size: 24px\">\n",
    "    <div class=\"col-md-12\">\n",
    "        <ul>\n",
    "            <li>Neuron groups sample 2-dimensional plane.</li>\n",
    "            <li>Many layered</li>\n",
    "            <li>Feedforward neural network</li>\n",
    "            <li>Image recognition</li>\n",
    "        </ul>\n",
    "    </div>\n",
    "</div>\n",
    "<div class=\"row\" style=\"font-size: 10px\">\n",
    "    <div class=\"col-md-12\">\n",
    "        <p><a href=\"http://www.wildml.com/2015/11/understanding-convolutional-neural-networks-for-nlp/\">Understanding Convolution Neural Networks for NLP</a>, WildML, November 7, 2015\n",
    "    </div>\n",
    "</div>"
   ]
  },
  {
   "cell_type": "markdown",
   "metadata": {
    "slideshow": {
     "slide_type": "slide"
    }
   },
   "source": [
    "<h2><center>Types of Deep Learning</center></h2>\n",
    "<h3><center>Recurrent Neural Networks</center></h3>\n",
    "<div class=\"row\" style=\"font-size: 24px\">\n",
    "    <div class=\"col-md-12\">\n",
    "        <center><img src=\"images/rnn_example_image.png\" style=\"width:600px\"></center>\n",
    "    </div>\n",
    "</div>\n",
    "<br>\n",
    "<div class=\"row\" style=\"font-size: 24px\">\n",
    "    <div class=\"col-md-12\">\n",
    "        <ul>\n",
    "            <li>Usually single layered</li>\n",
    "            <li>Information pulled through network like a ticker tape.</li>\n",
    "            <li>State of RNN changes through time</li>\n",
    "            <li>Network can learn a sequence.</li>\n",
    "        </ul>\n",
    "    </div>\n",
    "</div>\n",
    "<div class=\"row\" style=\"font-size: 10px\">\n",
    "    <div class=\"col-md-12\">\n",
    "        <p><a href=\"http://colah.github.io/posts/2015-08-Understanding-LSTMs/\">Understanding LSTM Networks</a>, colah's blog, August 27, 2015\n",
    "    </div>\n",
    "</div>"
   ]
  },
  {
   "cell_type": "markdown",
   "metadata": {
    "slideshow": {
     "slide_type": "slide"
    }
   },
   "source": [
    "<h2><center>Types of Recurrent Neural Networks</center></h2>\n",
    "<div class=\"row\" style=\"font-size: 24px\">\n",
    "    <div class=\"col-md-12\">\n",
    "        <img src=\"images/diags.jpeg\" style=\"width:1100px\">\n",
    "    </div>\n",
    "</div>\n",
    "<div class=\"row\" style=\"font-size: 18px\">\n",
    "    <div class=\"col-md-2\">\n",
    "        <dl>\n",
    "            <dt>one to one</dt>\n",
    "            <dd style=\"padding: 0; margin: 0\">- image classification</dd>\n",
    "        </dl>\n",
    "    </div>\n",
    "    <div class=\"col-md-2\">\n",
    "        <dl>\n",
    "            <dt>one to many</dt>\n",
    "            <dd style=\"padding: 0; margin: 0\">- sentiment analysis</dd>\n",
    "        </dl>\n",
    "    </div>\n",
    "    <div class=\"col-md-2\">\n",
    "        <dl>\n",
    "            <dt>many to one</dt>\n",
    "            <dd style=\"padding: 0; margin: 0\">- sequence classification</dd>\n",
    "        </dl>\n",
    "    </div>\n",
    "    <div class=\"col-md-2\">\n",
    "        <dl>\n",
    "            <dt>many to many</dt>\n",
    "            <dd style=\"padding: 0; margin: 0\">- translation</dd>\n",
    "        </dl>\n",
    "    </div>\n",
    "    <div class=\"col-md-1\">\n",
    "        <p>\n",
    "    </div>\n",
    "    <div class=\"col-md-2\">\n",
    "        <dl>\n",
    "            <dt>many to many</dt>\n",
    "            <dd style=\"padding: 0; margin: 0\">- video classification</dd>\n",
    "        </dl>\n",
    "    </div>\n",
    "    <div class=\"col-md-1\">\n",
    "        <p>\n",
    "    </div>\n",
    "</div>\n",
    "<div class=\"row\" style=\"font-size: 24px\">\n",
    "    <div class=\"col-md-12\">\n",
    "        <p style=\"font-size: 10px\"><a href=\"http://karpathy.github.io/2015/05/21/rnn-effectiveness/\">The Unreasonable Effectiveness of Recurrent Neural Networks</a>, Andrej Karpathy blog, May 21, 2015\n",
    "    </div>\n",
    "</div>"
   ]
  },
  {
   "cell_type": "markdown",
   "metadata": {
    "slideshow": {
     "slide_type": "slide"
    }
   },
   "source": [
    "<h2><center>RNN Concepts</center></h2>\n",
    "<div class=\"row\" style=\"font-size: 24px\">\n",
    "    <div class=\"col-md-12\">\n",
    "        <ul>\n",
    "            <li>Backpropagation through time (BPTT).</li>\n",
    "            <br><br>\n",
    "            <li>Vanishing/exploding gradients</li>\n",
    "            <br><br>\n",
    "            <li>LSTMs</li>\n",
    "        </ul>\n",
    "    </div>\n",
    "</div>"
   ]
  },
  {
   "cell_type": "markdown",
   "metadata": {
    "slideshow": {
     "slide_type": "slide"
    }
   },
   "source": [
    "<h2><center>Backpropagation</center></h2>\n",
    "<div class=\"row\" style=\"font-size: 24px\">\n",
    "    <div class=\"col-md-12\">\n",
    "        <ul>\n",
    "            <li>Backpropagate errors through each layer in RNN.</li>\n",
    "            <ul>\n",
    "                <li>Number of layers = number of time steps in series.</li>\n",
    "                <li>Backpropagation Through Time (BPTT).</li>\n",
    "            </ul>\n",
    "            <br>\n",
    "            <li>Challenges:</li>\n",
    "                <ul>\n",
    "                <li>Difficult to train long series.</li>\n",
    "                <li>Shared weights.</li>\n",
    "                    <ul>\n",
    "                        <li>Slope of current gradient can directly affect slope of past gradients.</li>\n",
    "                    </ul>\n",
    "                    <li>Weight updates vs. accurate gradients.</li>\n",
    "                </ul>\n",
    "            <br>\n",
    "            <li>Solutions:</li>\n",
    "            <ul>\n",
    "                <li>Truncated backprogation</li>\n",
    "                <li>LSTMs</li>\n",
    "            </ul>\n",
    "        </ul>\n",
    "    </div>\n",
    "</div>"
   ]
  },
  {
   "cell_type": "markdown",
   "metadata": {
    "slideshow": {
     "slide_type": "slide"
    }
   },
   "source": [
    "<h2><center>Backpropagation</center></h2>\n",
    "<div class=\"row\" style=\"font-size: 24px\">\n",
    "    <div class=\"col-md-12\">\n",
    "        <dl>\n",
    "            <dt>True backpropagation:</dt>\n",
    "        </dl>\n",
    "        <center><img src=\"images/RNN_true_truncated_backprop.png\" style=\"width:400px\"></center>\n",
    "        <br>\n",
    "        <dl>\n",
    "            <dt>TensorFlow style backpropagation:</dt>\n",
    "            <dd style=\"padding: 0; margin: 0\">- graph split into separate tensors</dd>\n",
    "            <dd style=\"padding: 0; margin: 0\">- each n backprop steps wide</dd>\n",
    "        </dl>\n",
    "        <center><img src=\"images/RNN_tf_truncated_backprop.png\" style=\"width:500px\"></center>\n",
    "    </div>\n",
    "</div>\n",
    "<div class=\"row\" style=\"font-size: 10px\">\n",
    "    <div class=\"col-md-12\">\n",
    "        <p><a href=\"http://r2rt.com/styles-of-truncated-backpropagation.html\">Styles of Truncated Backpropagation</a>, R2RT, July 19, 2016\n",
    "    </div>\n",
    "</div>"
   ]
  },
  {
   "cell_type": "markdown",
   "metadata": {
    "slideshow": {
     "slide_type": "slide"
    }
   },
   "source": [
    "<h2><center>Vanishing/Exploding Gradients</center></h2>\n",
    "<div class=\"row\" style=\"font-size: 24px\">\n",
    "    <div class=\"col-md-12\">\n",
    "        <ul>\n",
    "            <li>Gradient can explode when backpropogation step is large.</li>\n",
    "            <ul>\n",
    "                <li>Clip gradients to prevent explosion.</li><br>\n",
    "            </ul>\n",
    "            <br>\n",
    "            <li>Vanishing gradients are more difficult to deal with.</li>\n",
    "            <ul>\n",
    "                <li>Good weight initialization important.</li>\n",
    "            </ul>\n",
    "            <br><br>\n",
    "            <li>What about variable gradients during training?</li>\n",
    "            <ul>\n",
    "                <li>LSTMs can solve this issue.</li><br>\n",
    "            </ul>\n",
    "        </ul>\n",
    "    </div>\n",
    "</div>"
   ]
  },
  {
   "cell_type": "markdown",
   "metadata": {
    "slideshow": {
     "slide_type": "slide"
    }
   },
   "source": [
    "<h2><center>Long Short-Term Memory</center></h2>\n",
    "<br><br>\n",
    "<div class=\"row\" style=\"font-size: 24px\">\n",
    "    <div class=\"col-md-12\">\n",
    "        <ul>\n",
    "            <li>Basic principle - write down information to remember.</li><br>\n",
    "            <br>\n",
    "            <li>Main challenge - information overload.</li><br>\n",
    "        </ul>\n",
    "    </div>\n",
    "</div>"
   ]
  },
  {
   "cell_type": "markdown",
   "metadata": {
    "slideshow": {
     "slide_type": "slide"
    }
   },
   "source": [
    "<h2><center>Long Short-Term Memory</center></h2>\n",
    "<br><br>\n",
    "<div class=\"row\" style=\"font-size: 24px\">\n",
    "    <div class=\"col-md-6\">\n",
    "        <ul>\n",
    "            <li>Overcoming LSTM challenges:</li><br>\n",
    "            <ul>\n",
    "                <li>Forget selectively.</li><br>\n",
    "                <li>Read selectively.</li><br>\n",
    "                <li>Write selectively.</li><br>\n",
    "            </ul>\n",
    "        </ul>\n",
    "    </div>\n",
    "    <div class=\"col-md-6\">\n",
    "        <ul>\n",
    "            <li>LSTM cell</li><br>\n",
    "            <ul>\n",
    "                <li>Forget gate.</li><br>\n",
    "                <li>Input gate.</li><br>\n",
    "                <li>Output gate.</li><br>\n",
    "            </ul>\n",
    "        </ul>\n",
    "    </div>\n",
    "</div>"
   ]
  },
  {
   "cell_type": "markdown",
   "metadata": {
    "slideshow": {
     "slide_type": "slide"
    }
   },
   "source": [
    "<h2><center>Forget Gate</center></h2>\n",
    "<br><br>\n",
    "<div class=\"row\" style=\"font-size: 24px\">\n",
    "    <div class=\"col-md-6\">\n",
    "        <ul>\n",
    "            <li>Decide what information to remove from cell state.</li><br>\n",
    "            <br>\n",
    "            <li>Sigmoid layer.</li><br>\n",
    "            <br>\n",
    "        </ul>\n",
    "    </div>    \n",
    "    <div class=\"col-md-6\">\n",
    "        <img src=\"images/LSTM3-focus-f.png\" style=\"width:1000px\">\n",
    "    </div>\n",
    "</div>\n",
    "<div class=\"row\" style=\"font-size: 10px\">\n",
    "    <div class=\"col-md-12\">\n",
    "        <p><a href=\"http://colah.github.io/posts/2015-08-Understanding-LSTMs/\">Understanding LSTM Networks</a>, colah's blog, August 27, 2015\n",
    "    </div>\n",
    "</div>"
   ]
  },
  {
   "cell_type": "markdown",
   "metadata": {
    "slideshow": {
     "slide_type": "slide"
    }
   },
   "source": [
    "<h2><center>Input Gate</center></h2>\n",
    "<div class=\"row\" style=\"font-size: 24px\">\n",
    "    <div class=\"col-md-6\">\n",
    "        <ul>\n",
    "            <li>Decide what information to store in cell state.</li><br>\n",
    "            <br>\n",
    "        </ul>\n",
    "        <ol>\n",
    "            <li>Decide what to update.</li>\n",
    "            <ul>\n",
    "                <li>sigmoid layer.</li><br>\n",
    "            </ul>\n",
    "            <br>\n",
    "            <li>Create candidate values for cell state.</li>\n",
    "            <ul>\n",
    "                <li>tanh layer.</li><br>\n",
    "            </ul>\n",
    "            <br>\n",
    "        </ol>\n",
    "    </div>\n",
    "    <div class=\"col-md-6\">\n",
    "        <img src=\"images/LSTM3-focus-i.png\" style=\"width:1000px\">\n",
    "    </div>\n",
    "</div>\n",
    "<div class=\"row\" style=\"font-size: 10px\">\n",
    "    <div class=\"col-md-12\">\n",
    "        <p><a href=\"http://colah.github.io/posts/2015-08-Understanding-LSTMs/\">Understanding LSTM Networks</a>, colah's blog, August 27, 2015\n",
    "    </div>\n",
    "</div>"
   ]
  },
  {
   "cell_type": "markdown",
   "metadata": {
    "slideshow": {
     "slide_type": "slide"
    }
   },
   "source": [
    "<h2><center>Update Cell State</center></h2>\n",
    "<div class=\"row\" style=\"font-size: 24px\">\n",
    "    <div class=\"col-md-6\">\n",
    "        <ol>\n",
    "            <li>Remove forgotten information.</li>\n",
    "            <ul>\n",
    "                <li>Multiply $f_t$ by old cell state.</li><br>\n",
    "            </ul>\n",
    "            <br>\n",
    "            <li>Add new candidate values scaled by their importance.</li>\n",
    "            <ul>\n",
    "                <li>Add $i_t\\ast\\tilde{C}_t$</li><br>\n",
    "            </ul>\n",
    "            <br>\n",
    "        </ol>\n",
    "    </div>\n",
    "    <div class=\"col-md-6\">\n",
    "        <img src=\"images/LSTM3-focus-C.png\" style=\"width:1000px\">\n",
    "    </div>\n",
    "</div>\n",
    "<div class=\"row\" style=\"font-size: 10px\">\n",
    "    <div class=\"col-md-12\">\n",
    "        <p><a href=\"http://colah.github.io/posts/2015-08-Understanding-LSTMs/\">Understanding LSTM Networks</a>, colah's blog, August 27, 2015\n",
    "    </div>\n",
    "</div>"
   ]
  },
  {
   "cell_type": "markdown",
   "metadata": {
    "slideshow": {
     "slide_type": "slide"
    }
   },
   "source": [
    "<h2><center>Output Gate</center></h2>\n",
    "<div class=\"row\" style=\"font-size: 24px\">\n",
    "    <div class=\"col-md-6\">\n",
    "        <ol>\n",
    "            <li>Decide what information from cell state to output.</li>\n",
    "            <ul>\n",
    "                <li>sigmoid layer.</li><br>\n",
    "            </ul>\n",
    "            <br>\n",
    "            <li>Filter out pertinent information.</li>\n",
    "            <ul>\n",
    "                <li>pass cell state through tanh layer.</li><br>\n",
    "                <li>mulitply by sigmoid layer output.</li><br>\n",
    "            </ul>\n",
    "        </ol>\n",
    "    </div>\n",
    "    <div class=\"col-md-6\">\n",
    "        <img src=\"images/LSTM3-focus-o.png\" style=\"width:1000px\">\n",
    "    </div>\n",
    "</div>\n",
    "<div class=\"row\" style=\"font-size: 10px\">\n",
    "    <div class=\"col-md-12\">\n",
    "        <p><a href=\"http://colah.github.io/posts/2015-08-Understanding-LSTMs/\">Understanding LSTM Networks</a>, colah's blog, August 27, 2015\n",
    "    </div>\n",
    "</div>"
   ]
  },
  {
   "cell_type": "markdown",
   "metadata": {
    "slideshow": {
     "slide_type": "slide"
    }
   },
   "source": [
    "<h2><center>Mulitple Layers</center></h2>\n",
    "<div class=\"row\" style=\"font-size: 24px\">\n",
    "    <div class=\"col-md-6\">\n",
    "        <ul>\n",
    "            <li>Mulitiple LSTM cells can be wrapped together.</li><br>\n",
    "            <ul>\n",
    "                <li>Behaves like a single LSTM cell.</li><br>\n",
    "                <li>Increases model complexity.</li>\n",
    "            </ul>\n",
    "        </ul>\n",
    "    </div>\n",
    "    <div class=\"col-md-6\">\n",
    "        <img src=\"images/RNN_MultiRNNCellGrouped.png\" style=\"width:200px\" align=\"right\">\n",
    "    </div>\n",
    "</div>\n",
    "<div class=\"row\" style=\"font-size: 10px\">\n",
    "    <div class=\"col-md-12\">\n",
    "        <p><a href=\"http://r2rt.com/recurrent-neural-networks-in-tensorflow-ii.html\">Recurrent Neural Networks in Tensorflow II</a>, R2RT, July 25, 2016\n",
    "    </div>\n",
    "</div>"
   ]
  },
  {
   "cell_type": "markdown",
   "metadata": {
    "slideshow": {
     "slide_type": "slide"
    }
   },
   "source": [
    "<h1><center>Dataset Creation</center></h1>"
   ]
  },
  {
   "cell_type": "markdown",
   "metadata": {
    "slideshow": {
     "slide_type": "skip"
    }
   },
   "source": [
    "<h2><center>Create Wave Sample</center></h2>\n",
    "<br>\n",
    "<span style=\"font-size: 75%;\">\n",
    "Create a dataset of sine waves. Use a list of periods to create wave samples with distinct periods. Randomly assign different amplitudes to each wave.\n",
    "</span>\n",
    "<br>\n",
    "<span style=\"font-size: 50%;\">\n",
    "```python\n",
    "def create_wave_sample(sample_size, num_points, period):\n",
    "    wave_list = []\n",
    "    for _ in range(sample_size):\n",
    "        a = np.random.uniform(low=1, high=10.1)\n",
    "        x = np.linspace(-10*np.pi, 10*np.pi, num_points)\n",
    "        wave = a*np.sin(period*x)\n",
    "        wave_and_period = np.insert(float(period), 1, wave)\n",
    "        wave_list.append(wave_and_period)\n",
    "        \n",
    "    return np.array(wave_list)\n",
    "```\n",
    "<br><br><br><br><br>"
   ]
  },
  {
   "cell_type": "markdown",
   "metadata": {
    "slideshow": {
     "slide_type": "slide"
    }
   },
   "source": [
    "<h2><center>Create Wave Sample</center></h2>\n",
    "<br>\n",
    "<span style=\"font-size: 75%;\">\n",
    "Create a dataset of sine waves. Use a list of periods to create wave samples with distinct periods. Randomly assign different amplitudes to each wave.\n",
    "</span>"
   ]
  },
  {
   "cell_type": "code",
   "execution_count": 2,
   "metadata": {
    "slideshow": {
     "slide_type": "fragment"
    }
   },
   "outputs": [],
   "source": [
    "def create_wave_sample(sample_size, num_points, period, print_stats=False):\n",
    "    \"\"\"\n",
    "    Create a random sample of wave patterns given a sample size, number of points, \n",
    "    and a period.\n",
    "    \n",
    "    Parameters:\n",
    "    ----------\n",
    "    sample_size: int\n",
    "        Number of wave patterns to create.\n",
    "    num_points: int\n",
    "        How many points to use of each wave pattern.\n",
    "    period: float\n",
    "        The wave period to use.\n",
    "    print_stats: bool\n",
    "        Whether to print statistics and plot for first wave sample. Used for debugging.\n",
    "        \n",
    "    Returns:\n",
    "    -------\n",
    "    numpy.ndarray\n",
    "    \n",
    "    \"\"\"\n",
    "    wave_list = []\n",
    "    count = 1\n",
    "    for _ in range(sample_size):\n",
    "        a = np.random.uniform(low=1, high=10.1)\n",
    "        x = np.linspace(-10*np.pi, 10*np.pi, num_points)\n",
    "        wave = a*np.sin(period*x)\n",
    "        wave_and_period = np.insert(float(period), 1, wave)\n",
    "        wave_list.append(wave_and_period)\n",
    "        if print_stats:\n",
    "            print('period: {}'.format(period))\n",
    "            print('sample size: {}'.format(sample_size))\n",
    "            print('number of points: {}'.format(num_points))\n",
    "            print('a: {}'.format(a))\n",
    "            print('len(x): {}'.format(len(x)))\n",
    "            print('x range: [{}, {}]'.format(min(x), max(x)))\n",
    "            print('len(wave_and_period): {}'.format(len(wave_and_period)))\n",
    "            print('wave range: [{}, {}]'.format(min(wave_and_period), max(wave_and_period)))\n",
    "            plt.plot(x, wave)\n",
    "            plt.show()\n",
    "            print_stats=False\n",
    "        count += 1\n",
    "        \n",
    "    return np.array(wave_list)"
   ]
  },
  {
   "cell_type": "markdown",
   "metadata": {
    "slideshow": {
     "slide_type": "slide"
    }
   },
   "source": [
    "<h2><center>Create Wave Sample</center></h2>\n",
    "<br>\n",
    "<span style=\"font-size: 75%;\">\n",
    "Create wave samples using a list of periods.\n",
    "</span>"
   ]
  },
  {
   "cell_type": "code",
   "execution_count": 3,
   "metadata": {
    "slideshow": {
     "slide_type": "fragment"
    }
   },
   "outputs": [
    {
     "name": "stdout",
     "output_type": "stream",
     "text": [
      "period: 1\n",
      "sample size: 150\n",
      "number of points: 301\n",
      "a: 4.661135357783987\n",
      "len(x): 301\n",
      "x range: [-31.41592653589793, 31.41592653589793]\n",
      "len(wave_and_period): 302\n",
      "wave range: [-4.635601170591407, 4.635601170591409]\n"
     ]
    },
    {
     "data": {
      "image/png": "[encoded data removed]",
      "text/plain": [
       "<matplotlib.figure.Figure at 0x1a1fa5c828>"
      ]
     },
     "metadata": {},
     "output_type": "display_data"
    },
    {
     "name": "stdout",
     "output_type": "stream",
     "text": [
      "period: 2\n",
      "sample size: 150\n",
      "number of points: 301\n",
      "a: 9.555028147451342\n",
      "len(x): 301\n",
      "x range: [-31.41592653589793, 31.41592653589793]\n",
      "len(wave_and_period): 302\n",
      "wave range: [-9.50268470350051, 9.502684703500524]\n"
     ]
    },
    {
     "data": {
      "image/png": "[encoded data removed]",
      "text/plain": [
       "<matplotlib.figure.Figure at 0x1a1fb12080>"
      ]
     },
     "metadata": {},
     "output_type": "display_data"
    }
   ],
   "source": [
    "periods = [1, 2]\n",
    "samples_list = []\n",
    "for i in periods:\n",
    "    waves = create_wave_sample(150, 301, i, print_stats=True)\n",
    "    samples_list.append(waves)"
   ]
  },
  {
   "cell_type": "markdown",
   "metadata": {
    "slideshow": {
     "slide_type": "slide"
    }
   },
   "source": [
    "<h2><center>Create Wave Sample</center></h2>\n",
    "<br>\n",
    "<span style=\"font-size: 75%;\">\n",
    "Concatenate wave samples into a single sample and load into a DataFrame.\n",
    "</span>"
   ]
  },
  {
   "cell_type": "code",
   "execution_count": 4,
   "metadata": {
    "slideshow": {
     "slide_type": "fragment"
    }
   },
   "outputs": [],
   "source": [
    "waves_sample = np.concatenate(samples_list)\n",
    "df = pd.DataFrame(waves_sample)\n",
    "\n",
    "# Randomize the two wave samples by shuffling the DataFrame.\n",
    "df_shuffled = df.sample(frac=1).reset_index(drop=True)"
   ]
  },
  {
   "cell_type": "markdown",
   "metadata": {
    "slideshow": {
     "slide_type": "slide"
    }
   },
   "source": [
    "<h2><center>Create Wave Sample</center></h2>"
   ]
  },
  {
   "cell_type": "markdown",
   "metadata": {
    "slideshow": {
     "slide_type": "fragment"
    }
   },
   "source": [
    "#### Dataset Choices:\n",
    "1. Save the current dataset.\n",
    "2. Load a saved dataset.\n",
    "3. Use the currently created dataset."
   ]
  },
  {
   "cell_type": "code",
   "execution_count": 5,
   "metadata": {
    "slideshow": {
     "slide_type": "fragment"
    }
   },
   "outputs": [],
   "source": [
    "SAVE_DATASET = False\n",
    "LOAD_DATASET = True\n",
    "waves_filename = os.path.join(os.getcwd(), 'data', 'waves.csv')\n",
    "if not Path(waves_filename).exists():\n",
    "    df_shuffled.to_csv(waves_filename, index=False)\n",
    "    df_dataset = df_shuffled.copy()\n",
    "if SAVE_DATASET:\n",
    "    df_shuffled.to_csv(waves_filename, index=False)\n",
    "    df_dataset = df_shuffled.copy()\n",
    "elif LOAD_DATASET:\n",
    "    df_dataset = pd.read_csv(waves_filename)\n",
    "else:\n",
    "    df_dataset = df_shuffled.copy()"
   ]
  },
  {
   "cell_type": "markdown",
   "metadata": {
    "slideshow": {
     "slide_type": "slide"
    }
   },
   "source": [
    "<h1><center>TensorFlow Model</center></h1>"
   ]
  },
  {
   "cell_type": "markdown",
   "metadata": {
    "slideshow": {
     "slide_type": "slide"
    }
   },
   "source": [
    "<h2><center>Model Preparation</center></h2>\n",
    "<br>\n",
    "<span style=\"font-size: 75%;\">\n",
    "Split dataset into features and labels.\n",
    "</span>"
   ]
  },
  {
   "cell_type": "code",
   "execution_count": 6,
   "metadata": {
    "slideshow": {
     "slide_type": "fragment"
    }
   },
   "outputs": [],
   "source": [
    "X_array = df.iloc[:, 1:].as_matrix()\n",
    "y_series = df.iloc[:, 0]"
   ]
  },
  {
   "cell_type": "markdown",
   "metadata": {
    "slideshow": {
     "slide_type": "slide"
    }
   },
   "source": [
    "<h2><center>Model Preparation</center></h2>\n",
    "<br>\n",
    "<span style=\"font-size: 75%;\">\n",
    "Cast y labels from periods to values between 0 and 1.\n",
    "</span>"
   ]
  },
  {
   "cell_type": "code",
   "execution_count": 7,
   "metadata": {
    "slideshow": {
     "slide_type": "fragment"
    }
   },
   "outputs": [
    {
     "name": "stdout",
     "output_type": "stream",
     "text": [
      "Originals y labels: [1. 2.]\n",
      "New y labels: [0. 1.]\n"
     ]
    }
   ],
   "source": [
    "unique_ys = y_series.unique()\n",
    "sorted_ys = np.sort(unique_ys)\n",
    "for i in range(len(sorted_ys)):\n",
    "    y_series = y_series.replace(to_replace=sorted_ys[i], value=i)\n",
    "new_unique_ys = y_series.unique()\n",
    "y_array = y_series.values\n",
    "print('Originals y labels: {}'.format(unique_ys))\n",
    "print('New y labels: {}'.format(new_unique_ys))"
   ]
  },
  {
   "cell_type": "markdown",
   "metadata": {
    "slideshow": {
     "slide_type": "slide"
    }
   },
   "source": [
    "<h2><center>Model Preparation</center></h2>\n",
    "<br>\n",
    "<span style=\"font-size: 75%;\">\n",
    "Split features and labels into train and test/validation sets.\n",
    "</span>"
   ]
  },
  {
   "cell_type": "code",
   "execution_count": 8,
   "metadata": {
    "slideshow": {
     "slide_type": "fragment"
    }
   },
   "outputs": [],
   "source": [
    "X_train, X_test_val, y_train, y_test_val = train_test_split(X_array, y_array, \n",
    "                                                            test_size=0.2, random_state=42)"
   ]
  },
  {
   "cell_type": "markdown",
   "metadata": {
    "slideshow": {
     "slide_type": "fragment"
    }
   },
   "source": [
    "<span style=\"font-size: 75%;\">\n",
    "Split test/validation set into test set and validation set.\n",
    "</span>"
   ]
  },
  {
   "cell_type": "code",
   "execution_count": 9,
   "metadata": {
    "slideshow": {
     "slide_type": "fragment"
    }
   },
   "outputs": [],
   "source": [
    "test_val_size = int(X_test_val.shape[0] / 2)\n",
    "X_test = X_test_val[0:test_val_size, :]\n",
    "y_test = y_test_val[0:test_val_size]\n",
    "X_val = X_test_val[test_val_size:, :]\n",
    "y_val = y_test_val[test_val_size:]"
   ]
  },
  {
   "cell_type": "code",
   "execution_count": 10,
   "metadata": {
    "slideshow": {
     "slide_type": "skip"
    }
   },
   "outputs": [],
   "source": [
    "def make_batch(X, y, batch_size, back_prop_steps):\n",
    "    \"\"\"\n",
    "    Create a random batch from the training data.\n",
    "    \n",
    "    Parameters:\n",
    "    ----------\n",
    "    X: numpy.ndarray\n",
    "        Training set.\n",
    "    y: numpy.ndarray\n",
    "        Test set.\n",
    "    batch_size: int\n",
    "        Batch size.\n",
    "    back_prop_steps: int\n",
    "        Back propagation size.\n",
    "        \n",
    "    Returns:\n",
    "    -------\n",
    "    numpy.ndarray, numpy.ndarray\n",
    "    \n",
    "    \"\"\"\n",
    "    num_rows, num_columns = X.shape\n",
    "    bp_start_i = np.random.choice(num_columns-back_prop_steps, 1)[0]\n",
    "    bp_end_i = bp_start_i + back_prop_steps\n",
    "    # random_indices = np.random.choice(np.arange(num_rows), batch_size, replace=False)\n",
    "    random_indices = np.random.randint(low=0, high=len(X), size=batch_size)\n",
    "    X_batch = X[random_indices, bp_start_i:bp_end_i]\n",
    "    y_batch = y[random_indices]\n",
    "    \n",
    "    return X_batch, y_batch"
   ]
  },
  {
   "cell_type": "code",
   "execution_count": 11,
   "metadata": {
    "slideshow": {
     "slide_type": "skip"
    }
   },
   "outputs": [],
   "source": [
    "# Function to create directories where log file for tensorboard will be stored\n",
    "def create_log_directory():\n",
    "    \"\"\"\n",
    "    Save log files for tensorboard.\n",
    "    \n",
    "    :returns: str\n",
    "    \"\"\"\n",
    "    cwd = os.getcwd()\n",
    "    if not Path(os.path.join(cwd, 'tmp')).exists():\n",
    "        os.mkdir(os.path.join(cwd, 'tmp'))\n",
    "    \n",
    "    fpath = os.path.join(cwd, 'tmp', 'logs')\n",
    "    if Path(fpath).exists():\n",
    "        dirlist = os.listdir(fpath)\n",
    "        # dirarray_parsed = np.asarray([x.split('_') for x in dirlist])\n",
    "        dirarray_parsed_prefix = np.asarray([x.split('_')[0] for x in dirlist])\n",
    "        dirarray_parsed_suffix = np.asarray([x.split('_')[-1] for x in dirlist])\n",
    "        dirarray_sorted_suffix = natsorted(dirarray_parsed_suffix)\n",
    "        \n",
    "        num_run_dirs = np.sum(dirarray_parsed_prefix == 'run')\n",
    "    else:\n",
    "        os.mkdir(fpath)\n",
    "        num_run_dirs = 0\n",
    "        \n",
    "    # Check if run_1 directory exists\n",
    "    if num_run_dirs == 0:\n",
    "        next_run_dir = 'run_1'\n",
    "        log_dir = os.path.join('tmp', 'logs', 'run_1')\n",
    "    else:\n",
    "        previous_run_num = np.int(dirarray_sorted_suffix[-1])\n",
    "        next_run = previous_run_num + 1\n",
    "        next_run_dir = 'run_{}'.format(next_run)\n",
    "        os.mkdir(os.path.join(fpath, next_run_dir))\n",
    "        log_dir = os.path.join('tmp', 'logs', 'run_{}'.format(next_run))\n",
    "    \n",
    "    print('Tensorboard log files will be saved to {}.'.format(log_dir))\n",
    "    \n",
    "    return log_dir"
   ]
  },
  {
   "cell_type": "markdown",
   "metadata": {
    "slideshow": {
     "slide_type": "slide"
    }
   },
   "source": [
    "<h2><center>Define TensorFlow Graph</center></h2>"
   ]
  },
  {
   "cell_type": "code",
   "execution_count": 12,
   "metadata": {
    "slideshow": {
     "slide_type": "skip"
    }
   },
   "outputs": [],
   "source": [
    "def reset_graph():\n",
    "    if 'sess' in globals() and sess:\n",
    "        sess.close()\n",
    "    tf.reset_default_graph()\n",
    "\n",
    "# Reset graph if session isn't closed\n",
    "reset_graph()"
   ]
  },
  {
   "cell_type": "markdown",
   "metadata": {
    "slideshow": {
     "slide_type": "slide"
    }
   },
   "source": [
    "<h2><center>Define TensorFlow Graph</center></h2>\n",
    "<h3>Define hyperparameters</h3>\n",
    "<br>\n",
    "<span style=\"font-size: 75%;\">\n",
    "Create a dictionary to store the hyperparameters.\n",
    "</span>"
   ]
  },
  {
   "cell_type": "code",
   "execution_count": 13,
   "metadata": {
    "slideshow": {
     "slide_type": "fragment"
    }
   },
   "outputs": [],
   "source": [
    "hyperparams = {\n",
    "    'num_classes': len(unique_ys),\n",
    "    'batch_size': X_train.shape[0] // 10,\n",
    "    'back_prop_steps': 20,\n",
    "    'lstm_layers': 2,\n",
    "    'lstm_cell_units': 5,\n",
    "    'drop_out': 0.7,\n",
    "    'clipping_ratio': 2,\n",
    "    'learning_rate': 5e-4,\n",
    "    'epochs': 1000\n",
    "}"
   ]
  },
  {
   "cell_type": "markdown",
   "metadata": {
    "slideshow": {
     "slide_type": "slide"
    }
   },
   "source": [
    "<h2><center>Define TensorFlow Graph</center></h2>\n",
    "<h3>Create Cross Validation Set</h3>\n",
    "<br>\n",
    "<span style=\"font-size: 75%;\">\n",
    "Create cross validation dataset of size `batch_size`.\n",
    "</span>"
   ]
  },
  {
   "cell_type": "code",
   "execution_count": 14,
   "metadata": {
    "slideshow": {
     "slide_type": "fragment"
    }
   },
   "outputs": [],
   "source": [
    "X_val, y_val = make_batch(X_val, y_val, hyperparams['batch_size'], \n",
    "                          hyperparams['back_prop_steps'])"
   ]
  },
  {
   "cell_type": "markdown",
   "metadata": {
    "slideshow": {
     "slide_type": "slide"
    }
   },
   "source": [
    "<h2><center>Define TensorFlow Graph</center></h2>\n",
    "<h3>Create Test Set</h3>\n",
    "<br>\n",
    "<span style=\"font-size: 75%;\">\n",
    "Create test dataset of size `batch_size`.\n",
    "</span>"
   ]
  },
  {
   "cell_type": "code",
   "execution_count": 15,
   "metadata": {
    "slideshow": {
     "slide_type": "fragment"
    }
   },
   "outputs": [],
   "source": [
    "X_test, y_test = make_batch(X_test, y_test, hyperparams['batch_size'], \n",
    "                            hyperparams['back_prop_steps'])"
   ]
  },
  {
   "cell_type": "markdown",
   "metadata": {
    "slideshow": {
     "slide_type": "slide"
    }
   },
   "source": [
    "<h2><center>Define TensorFlow Graph</center></h2>\n",
    "<h3>Define placeholders</h3>"
   ]
  },
  {
   "cell_type": "code",
   "execution_count": 16,
   "metadata": {
    "slideshow": {
     "slide_type": "fragment"
    }
   },
   "outputs": [],
   "source": [
    "X_tensor = tf.placeholder(tf.float32, [None, hyperparams['back_prop_steps']], \n",
    "                          name='Features')\n",
    "y_tensor = tf.placeholder(tf.int64, [None], name='Labels')\n",
    "keep_prob = tf.placeholder('float', name='Drop_Out')"
   ]
  },
  {
   "cell_type": "markdown",
   "metadata": {
    "slideshow": {
     "slide_type": "slide"
    }
   },
   "source": [
    "<h2><center>Define TensorFlow Graph</center></h2>\n",
    "<h3>Create the LSTM cell</h3>"
   ]
  },
  {
   "cell_type": "code",
   "execution_count": 17,
   "metadata": {
    "slideshow": {
     "slide_type": "fragment"
    }
   },
   "outputs": [],
   "source": [
    "def lstm_cell(num_units):\n",
    "    \"\"\"\n",
    "    Create LSTM cell\n",
    "    \n",
    "    Parameters:\n",
    "    ----------\n",
    "    num_units: int\n",
    "        Number of units in LSTM cell.\n",
    "        \n",
    "    Returns:\n",
    "    -------\n",
    "    LSTMCell\n",
    "    \n",
    "    \"\"\"\n",
    "    cell = LSTMCell(num_units, state_is_tuple=True)\n",
    "    return cell"
   ]
  },
  {
   "cell_type": "markdown",
   "metadata": {
    "slideshow": {
     "slide_type": "slide"
    }
   },
   "source": [
    "<h2><center>Define TensorFlow Graph</center></h2>\n",
    "<h3>Create Dropout Wrapper</h3>"
   ]
  },
  {
   "cell_type": "code",
   "execution_count": 18,
   "metadata": {
    "slideshow": {
     "slide_type": "fragment"
    }
   },
   "outputs": [],
   "source": [
    "def include_dropout(cell, prob):\n",
    "    \"\"\"\n",
    "    Create dropout wrapper.\n",
    "    \n",
    "    Parameters:\n",
    "    ----------\n",
    "    cell: LSTMCell\n",
    "        The LSTM cell.\n",
    "    prob: float\n",
    "        Dropout probability.\n",
    "        \n",
    "    Returns:\n",
    "    -------\n",
    "    DropoutWrapper\n",
    "    \n",
    "    \"\"\"\n",
    "    cell_culled = DropoutWrapper(cell, input_keep_prob=prob)\n",
    "    return cell_culled"
   ]
  },
  {
   "cell_type": "markdown",
   "metadata": {
    "slideshow": {
     "slide_type": "slide"
    }
   },
   "source": [
    "<h2><center>Define TensorFlow Graph</center></h2>\n",
    "<h3>Create Multi-cell RNN Structure</h3>"
   ]
  },
  {
   "cell_type": "code",
   "execution_count": 19,
   "metadata": {
    "slideshow": {
     "slide_type": "fragment"
    }
   },
   "outputs": [],
   "source": [
    "def create_multi_cell(num_units, prob, num_layers, batch_size, x):\n",
    "    \"\"\"\n",
    "    Create individual LSTM cells and combine them into a \n",
    "    multilayered cell.\n",
    "    \n",
    "    Parameters:\n",
    "    ----------\n",
    "    num_units: int\n",
    "        Number of units in LSTM cell.\n",
    "    num_layers: int\n",
    "        Number of layers for multilayered cell.\n",
    "    prob: float\n",
    "        Dropout probability.\n",
    "    batch_size: int\n",
    "        Batch size.\n",
    "    x: Tensor\n",
    "        Input tensor of features.\n",
    "    \n",
    "    Returns:\n",
    "    -------\n",
    "    DropoutWrapper\n",
    "    \n",
    "    \"\"\"\n",
    "    cell_list = [include_dropout(lstm_cell(num_units), prob) \n",
    "                 for _ in range(num_layers)]\n",
    "    multi_cell = MultiRNNCell(cell_list, state_is_tuple=True)\n",
    "    multi_cell_culled = DropoutWrapper(multi_cell, output_keep_prob=prob)\n",
    "    initial_state = multi_cell_culled.zero_state(batch_size, tf.float32)\n",
    "    return multi_cell_culled, initial_state"
   ]
  },
  {
   "cell_type": "markdown",
   "metadata": {
    "slideshow": {
     "slide_type": "slide"
    }
   },
   "source": [
    "<h2><center>Define TensorFlow Graph</center></h2>\n",
    "<h3>Create RNN</h3>"
   ]
  },
  {
   "cell_type": "code",
   "execution_count": 20,
   "metadata": {
    "slideshow": {
     "slide_type": "fragment"
    }
   },
   "outputs": [],
   "source": [
    "def create_rnn(x, cell, initial_state):\n",
    "    \"\"\"\n",
    "    Create the RNN according to the multilayered LSTM cell. \n",
    "    Return the last RNN output tensor.\n",
    "    \n",
    "    Parameters:\n",
    "    ----------\n",
    "    x: Tensor\n",
    "        Input tensor of features.\n",
    "    cell: DropoutWrapper\n",
    "        The multilayered LSTM cell after dropout has been applied.\n",
    "        \n",
    "    Returns:\n",
    "    -------\n",
    "    Tensor\n",
    "    \n",
    "    \"\"\"\n",
    "    x_list = tf.unstack(tf.expand_dims(x, axis=2), axis=1)\n",
    "    outputs, _ = tf.contrib.rnn.static_rnn(cell, x_list, \n",
    "                                           initial_state=initial_state, \n",
    "                                           dtype=tf.float32)\n",
    "    output = outputs[-1]\n",
    "    return output"
   ]
  },
  {
   "cell_type": "markdown",
   "metadata": {
    "slideshow": {
     "slide_type": "slide"
    }
   },
   "source": [
    "<h2><center>Define TensorFlow Graph</center></h2>\n",
    "<h3> Create the softmax layer</h3>"
   ]
  },
  {
   "cell_type": "code",
   "execution_count": 21,
   "metadata": {
    "slideshow": {
     "slide_type": "fragment"
    }
   },
   "outputs": [],
   "source": [
    "def softmax_layer(num_units, num_classes, output):\n",
    "    \"\"\"\n",
    "    Create softmax layer. This is the decision making layer, \n",
    "    classifying the wave period for each wave form.\n",
    "    \n",
    "    Parameters:\n",
    "    ----------\n",
    "    num_units: int\n",
    "        Number of units in LSTM cell.\n",
    "    num_classes: int\n",
    "        Number of periods to classify.\n",
    "    output: Tensor\n",
    "        The output tensor from the RNN.\n",
    "        \n",
    "    Returns:\n",
    "    --------\n",
    "    Tensor\n",
    "    \n",
    "    \"\"\"\n",
    "    W = tf.Variable(tf.truncated_normal([num_units, num_classes], stddev=1.0),\n",
    "                   name='weights', dtype=tf.float32, trainable=True)\n",
    "    b = tf.Variable(tf.zeros([num_classes]),\n",
    "                   name='biases', dtype=tf.float32, trainable=True)\n",
    "    output_X_W = tf.matmul(output, W, name='multiply')\n",
    "    logits = tf.add(output_X_W, b, name='add')\n",
    "    return logits"
   ]
  },
  {
   "cell_type": "markdown",
   "metadata": {
    "slideshow": {
     "slide_type": "slide"
    }
   },
   "source": [
    "<h2><center>Define TensorFlow Graph</center></h2>\n",
    "<h3>Define the cost function</h3>"
   ]
  },
  {
   "cell_type": "code",
   "execution_count": 22,
   "metadata": {
    "slideshow": {
     "slide_type": "fragment"
    }
   },
   "outputs": [],
   "source": [
    "def define_cost_function(logits, y, batch_size):\n",
    "    \"\"\"\n",
    "    Define the cost function. In this case, cross entropy.\n",
    "    \n",
    "    Parameters:\n",
    "    ----------\n",
    "    logits: Tensor\n",
    "        The output of the softmax layer.\n",
    "    y: Tensor\n",
    "        The tensor containing the labels.\n",
    "    batch_size: int\n",
    "        Batch size.\n",
    "    \"\"\"\n",
    "    loss = tf.nn.sparse_softmax_cross_entropy_with_logits(logits=logits, \n",
    "                                                          labels=y, \n",
    "                                                          name='cross_entropy')\n",
    "    cost = tf.reduce_sum(loss) / batch_size\n",
    "    return cost"
   ]
  },
  {
   "cell_type": "markdown",
   "metadata": {
    "slideshow": {
     "slide_type": "slide"
    }
   },
   "source": [
    "<h2><center>Define TensorFlow Graph</center></h2>\n",
    "<h3>Create the training step</h3>"
   ]
  },
  {
   "cell_type": "code",
   "execution_count": 23,
   "metadata": {
    "slideshow": {
     "slide_type": "fragment"
    }
   },
   "outputs": [],
   "source": [
    "def train(cost, learning_rate, clipping_ratio):\n",
    "    \"\"\"\n",
    "    Function to perform the model training.\n",
    "    \n",
    "    Parameters:\n",
    "    ----------\n",
    "    cost: Tensor\n",
    "        The tensor created by the cost function.\n",
    "    learning_rate: float\n",
    "        The learning rate.\n",
    "    clipping_ratio: float\n",
    "        The ratio of gradients that should be clipped \n",
    "        to avoid gradient explosion.\n",
    "        \n",
    "    Returns:\n",
    "    -------\n",
    "    Operation\n",
    "    \n",
    "    \"\"\"\n",
    "    training_variables = tf.trainable_variables()\n",
    "    computed_gradients = tf.gradients(cost, training_variables)\n",
    "    clipped_gradients, _ = tf.clip_by_global_norm(computed_gradients, \n",
    "                                                  clipping_ratio)\n",
    "    optimizer = tf.train.AdamOptimizer(learning_rate)\n",
    "    gradients = zip(clipped_gradients, training_variables)\n",
    "    training_step = optimizer.apply_gradients(gradients)\n",
    "    return training_step"
   ]
  },
  {
   "cell_type": "markdown",
   "metadata": {
    "slideshow": {
     "slide_type": "slide"
    }
   },
   "source": [
    "<h2><center>Define TensorFlow Graph</center></h2>\n",
    "<h3>Check model accuracy</h3>"
   ]
  },
  {
   "cell_type": "code",
   "execution_count": 24,
   "metadata": {
    "slideshow": {
     "slide_type": "fragment"
    }
   },
   "outputs": [],
   "source": [
    "def compute_accuracy(logits, y):\n",
    "    \"\"\"\n",
    "    Compute model accuracy by comparing logits and input labels.\n",
    "    \n",
    "    Parameters:\n",
    "    ----------\n",
    "    logits: Tensor\n",
    "        The output of the softmax layer.\n",
    "    y: Tensor\n",
    "        The tensor containing the labels.\n",
    "        \n",
    "    Return:\n",
    "    ------\n",
    "    Tensor\n",
    "    \n",
    "    \"\"\"\n",
    "    prediction = tf.equal(tf.argmax(logits, 1), y)\n",
    "    accuracy = tf.reduce_mean(tf.cast(prediction, 'float'), \n",
    "                              name='accuracy')\n",
    "    return accuracy"
   ]
  },
  {
   "cell_type": "markdown",
   "metadata": {
    "slideshow": {
     "slide_type": "slide"
    }
   },
   "source": [
    "<h2><center>Setup the TensorFlow Graph</center></h2>"
   ]
  },
  {
   "cell_type": "code",
   "execution_count": 25,
   "metadata": {
    "slideshow": {
     "slide_type": "fragment"
    }
   },
   "outputs": [],
   "source": [
    "# Create LSTM cell\n",
    "with tf.name_scope(\"LSTM_cell\") as scope:\n",
    "    cell, initial_state = create_multi_cell(hyperparams['lstm_cell_units'],\n",
    "                                            keep_prob,\n",
    "                                            hyperparams['lstm_layers'],\n",
    "                                            hyperparams['batch_size'],\n",
    "                                            X_tensor)\n",
    "\n",
    "# Create RNN\n",
    "with tf.name_scope(\"RNN\") as scope:\n",
    "    output = create_rnn(X_tensor, cell, initial_state)\n",
    "\n",
    "# Create softmax layer\n",
    "with tf.name_scope(\"softmax_layer\") as scope:\n",
    "    logits = softmax_layer(hyperparams['lstm_cell_units'],\n",
    "                          hyperparams['num_classes'],\n",
    "                          output)\n",
    "    \n",
    "# Define cost function\n",
    "with tf.name_scope(\"cost_function\") as scope:\n",
    "    cost = define_cost_function(logits, y_tensor, hyperparams['batch_size'])\n",
    "    tf.summary.scalar(\"cost\", cost)\n",
    "    \n",
    "# Define training step\n",
    "with tf.name_scope(\"training\") as scope:\n",
    "    training_step = train(cost, hyperparams['learning_rate'], \n",
    "                          hyperparams['clipping_ratio'])\n",
    "    \n",
    "# Calculate cross validation accuracy\n",
    "with tf.name_scope(\"accuracy\") as scope:\n",
    "    accuracy = compute_accuracy(logits, y_tensor)\n",
    "    tf.summary.scalar(\"accuracy\", accuracy)"
   ]
  },
  {
   "cell_type": "markdown",
   "metadata": {
    "slideshow": {
     "slide_type": "slide"
    }
   },
   "source": [
    "<h2><center>Train the model</center></h2>"
   ]
  },
  {
   "cell_type": "code",
   "execution_count": 26,
   "metadata": {
    "slideshow": {
     "slide_type": "fragment"
    }
   },
   "outputs": [
    {
     "name": "stdout",
     "output_type": "stream",
     "text": [
      "Tensorboard log files will be saved to tmp/logs/run_14.\n",
      "0 of 1000. Cost: [0.774, 0.694], CV Cost: 0.807, CV Accuracy: 0.417\n",
      "100 of 1000. Cost: [0.693, 0.716], CV Cost: 0.779, CV Accuracy: 0.417\n",
      "200 of 1000. Cost: [0.698, 0.712], CV Cost: 0.761, CV Accuracy: 0.208\n",
      "300 of 1000. Cost: [0.705, 0.696], CV Cost: 0.772, CV Accuracy: 0.000\n",
      "400 of 1000. Cost: [0.574, 0.686], CV Cost: 0.736, CV Accuracy: 0.042\n",
      "500 of 1000. Cost: [0.618, 0.670], CV Cost: 0.648, CV Accuracy: 0.917\n",
      "600 of 1000. Cost: [0.553, 0.644], CV Cost: 0.498, CV Accuracy: 1.000\n",
      "700 of 1000. Cost: [0.470, 0.615], CV Cost: 0.387, CV Accuracy: 1.000\n",
      "800 of 1000. Cost: [0.587, 0.576], CV Cost: 0.330, CV Accuracy: 1.000\n",
      "900 of 1000. Cost: [0.567, 0.538], CV Cost: 0.251, CV Accuracy: 1.000\n",
      "The final accuracy is 1.000000.\n"
     ]
    }
   ],
   "source": [
    "# Merge summaries for TensorBoard\n",
    "merged_summaries = tf.summary.merge_all()\n",
    "\n",
    "# Start a TensorFlow session\n",
    "with tf.Session() as sess:\n",
    "    \n",
    "    log_directory = create_log_directory()\n",
    "    summary_writer = tf.summary.FileWriter(log_directory, sess.graph)\n",
    "    \n",
    "    tf.global_variables_initializer().run()\n",
    "    \n",
    "    step = 0\n",
    "    cost_train_ma = -np.log(1/float(hyperparams['num_classes']) + 1e-9)\n",
    "    for i in range(hyperparams['epochs']):\n",
    "        # Sample batch for training\n",
    "        X_batch, y_batch = make_batch(X_train, y_train, \n",
    "                                      hyperparams['batch_size'], \n",
    "                                      hyperparams['back_prop_steps'])\n",
    "        \n",
    "        # Train the model\n",
    "        cost_train, _ = sess.run([cost, training_step],\n",
    "                                feed_dict = {\n",
    "                                    X_tensor:X_batch,\n",
    "                                    y_tensor:y_batch,\n",
    "                                    keep_prob:hyperparams['drop_out']\n",
    "                                })\n",
    "        cost_train_ma = cost_train_ma*0.99 + cost_train*0.01\n",
    "        if i%100 == 0:\n",
    "            \n",
    "            # Perform cross validation\n",
    "            result = sess.run([cost, merged_summaries, accuracy],\n",
    "                             feed_dict = {\n",
    "                                 X_tensor: X_val,\n",
    "                                 y_tensor: y_val,\n",
    "                                 keep_prob: 1\n",
    "                             })\n",
    "            cost_val = result[0]\n",
    "            accuracy_val = result[2]\n",
    "            training_step_stats = '{:d} of {:d}. Cost: [{:0.3f}, {:0.3f}], CV Cost: {:0.3f}, CV Accuracy: {:0.3f}'.format(i, hyperparams['epochs'], cost_train, cost_train_ma, cost_val, accuracy_val)\n",
    "            print(training_step_stats)\n",
    "            \n",
    "            # Save model parameters for TensorBoard\n",
    "            summary_str = result[1]\n",
    "            summary_writer.add_summary(summary_str, i)\n",
    "            summary_writer.flush()\n",
    "            \n",
    "            step += 1\n",
    "              \n",
    "    final_accuracy = sess.run(accuracy,\n",
    "                          feed_dict = {X_tensor: X_test,\n",
    "                                       y_tensor: y_test,\n",
    "                                       keep_prob: 1})\n",
    "    \n",
    "    print('The final accuracy is {:3f}.'.format(final_accuracy))"
   ]
  }
 ],
 "metadata": {
  "celltoolbar": "Slideshow",
  "kernelspec": {
   "display_name": "Python 3",
   "language": "python",
   "name": "python3"
  },
  "language_info": {
   "codemirror_mode": {
    "name": "ipython",
    "version": 3
   },
   "file_extension": ".py",
   "mimetype": "text/x-python",
   "name": "python",
   "nbconvert_exporter": "python",
   "pygments_lexer": "ipython3",
   "version": "3.6.4"
  },
  "livereveal": {
   "height": 768,
   "scroll": true,
   "width": 1280
  }
 },
 "nbformat": 4,
 "nbformat_minor": 2
}
