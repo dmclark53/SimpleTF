{
 "cells": [
  {
   "cell_type": "markdown",
   "metadata": {},
   "source": [
    "# Logistic Regression"
   ]
  },
  {
   "cell_type": "code",
   "execution_count": 1,
   "metadata": {},
   "outputs": [],
   "source": [
    "import numpy as np\n",
    "import pandas as pd\n",
    "import seaborn as sns\n",
    "sns.set(color_codes=True)\n",
    "sns.set_context(\"notebook\")\n",
    "\n",
    "from matplotlib import pyplot as plt\n",
    "%matplotlib inline"
   ]
  },
  {
   "cell_type": "markdown",
   "metadata": {},
   "source": [
    "## Dataset\n",
    "Create a simple dataset that can be used for classification."
   ]
  },
  {
   "cell_type": "code",
   "execution_count": 2,
   "metadata": {},
   "outputs": [],
   "source": [
    "num_points = 500\n",
    "x1 = np.random.randn(num_points)\n",
    "x2 = np.random.randn(num_points)\n",
    "y = np.random.randint(2, size=num_points)\n",
    "# y.reshape(-1,1)\n",
    "x1[y == 0] = x1[y == 0] + 3\n",
    "x2[y == 0] = x2[y == 0] + 5"
   ]
  },
  {
   "cell_type": "code",
   "execution_count": 3,
   "metadata": {},
   "outputs": [],
   "source": [
    "df = pd.DataFrame({'y':y, 'x1':x1, 'x2':x2})"
   ]
  },
  {
   "cell_type": "code",
   "execution_count": 4,
   "metadata": {},
   "outputs": [
    {
     "data": {
      "text/plain": [
       "<seaborn.axisgrid.FacetGrid at 0x10b313d68>"
      ]
     },
     "execution_count": 4,
     "metadata": {},
     "output_type": "execute_result"
    },
    {
     "data": {
      "image/png": "[encoded data removed]",
      "text/plain": [
       "<matplotlib.figure.Figure at 0x10a0f1588>"
      ]
     },
     "metadata": {},
     "output_type": "display_data"
    }
   ],
   "source": [
    "sns.lmplot(x='x1', y='x2', data=df, hue='y', fit_reg=False)"
   ]
  },
  {
   "cell_type": "markdown",
   "metadata": {},
   "source": [
    "# Features and Labels\n",
    "Split Dataframe into features and labels"
   ]
  },
  {
   "cell_type": "code",
   "execution_count": 5,
   "metadata": {},
   "outputs": [],
   "source": [
    "y_array = df.loc[:,'y'].values\n",
    "X_array = df.loc[:,['x1', 'x2']].values"
   ]
  },
  {
   "cell_type": "markdown",
   "metadata": {},
   "source": [
    "### One hot vector\n",
    "Convert labels format to one hot vectors."
   ]
  },
  {
   "cell_type": "code",
   "execution_count": 6,
   "metadata": {},
   "outputs": [],
   "source": [
    "def dense_to_one_hot(labels_dense, num_classes=2):\n",
    "    \"\"\"\n",
    "    Convert labels array into one hot vectors.\n",
    "    \n",
    "    Parameters:\n",
    "    ----------\n",
    "    labels_dense: numpy.ndarray\n",
    "        Array of labels.\n",
    "    num_classes: int, default 2\n",
    "        Number of unique classes.\n",
    "    \n",
    "    Returns:\n",
    "    -------\n",
    "    list\n",
    "    \n",
    "    \"\"\"\n",
    "    labels_one_hot = []\n",
    "    for label in labels_dense:\n",
    "        indices = [0]*num_classes\n",
    "        indices[label] = 1\n",
    "        labels_one_hot.append(indices)\n",
    "    \n",
    "    return labels_one_hot"
   ]
  },
  {
   "cell_type": "code",
   "execution_count": 7,
   "metadata": {},
   "outputs": [],
   "source": [
    "y_one_hot = dense_to_one_hot(y_array, 2)"
   ]
  },
  {
   "cell_type": "markdown",
   "metadata": {},
   "source": [
    "Split into training set and test set."
   ]
  },
  {
   "cell_type": "code",
   "execution_count": 8,
   "metadata": {},
   "outputs": [],
   "source": [
    "import sklearn\n",
    "from sklearn import metrics, preprocessing\n",
    "from sklearn.model_selection import train_test_split"
   ]
  },
  {
   "cell_type": "code",
   "execution_count": 9,
   "metadata": {},
   "outputs": [],
   "source": [
    "X_train, X_test, y_train, y_test = train_test_split(X_array, y_one_hot, test_size=0.2, random_state=42)"
   ]
  },
  {
   "cell_type": "markdown",
   "metadata": {},
   "source": [
    "### Batches\n",
    "Define function to take random batches from the training set during training."
   ]
  },
  {
   "cell_type": "code",
   "execution_count": 10,
   "metadata": {},
   "outputs": [],
   "source": [
    "def make_batch(X, y, batch_size):\n",
    "    \"\"\"\n",
    "    Create a random batch from the training data.\n",
    "    \n",
    "    Parameters:\n",
    "    ----------\n",
    "    X: numpy.ndarray\n",
    "        Training set.\n",
    "    y: numpy.ndarray\n",
    "        Test set.\n",
    "    batch_size: int\n",
    "        Batch size.\n",
    "        \n",
    "    Returns:\n",
    "    -------\n",
    "    numpy.ndarray, numpy.ndarray\n",
    "    \n",
    "    \"\"\" \n",
    "    y_size = len(y)\n",
    "    index_sample = np.random.choice(y_size, batch_size, replace=False)\n",
    "    # print(\"index_sample: {}\".format(index_sample))\n",
    "    y_array = np.array(y)\n",
    "    \n",
    "    X_batch = X[index_sample]\n",
    "    y_batch = y_array[index_sample]\n",
    "    \n",
    "    return X_batch, y_batch"
   ]
  },
  {
   "cell_type": "markdown",
   "metadata": {},
   "source": [
    "## Tensor Flow"
   ]
  },
  {
   "cell_type": "code",
   "execution_count": 11,
   "metadata": {},
   "outputs": [
    {
     "name": "stderr",
     "output_type": "stream",
     "text": [
      "/Users/dave/anaconda3/envs/py_36/lib/python3.6/importlib/_bootstrap.py:219: RuntimeWarning: compiletime version 3.5 of module 'tensorflow.python.framework.fast_tensor_util' does not match runtime version 3.6\n",
      "  return f(*args, **kwds)\n"
     ]
    }
   ],
   "source": [
    "import tensorflow as tf"
   ]
  },
  {
   "cell_type": "code",
   "execution_count": 12,
   "metadata": {},
   "outputs": [],
   "source": [
    "def reset_graph():\n",
    "    if 'sess' in globals() and sess:\n",
    "        sess.close()\n",
    "    tf.reset_default_graph()"
   ]
  },
  {
   "cell_type": "code",
   "execution_count": 13,
   "metadata": {},
   "outputs": [],
   "source": [
    "# Reset graph is session isn't closed\n",
    "reset_graph()"
   ]
  },
  {
   "cell_type": "markdown",
   "metadata": {},
   "source": [
    "### Define hyperparameters"
   ]
  },
  {
   "cell_type": "code",
   "execution_count": 14,
   "metadata": {},
   "outputs": [],
   "source": [
    "batch_size = X_train.shape[0] // 10\n",
    "num_features = X_train.shape[1]\n",
    "num_classes = len(df.loc[:,'y'].unique())\n",
    "learning_rate = 0.005\n",
    "epochs = 1000\n",
    "epochs_to_print = epochs // 10"
   ]
  },
  {
   "cell_type": "markdown",
   "metadata": {},
   "source": [
    "### Define placeholders"
   ]
  },
  {
   "cell_type": "code",
   "execution_count": 15,
   "metadata": {},
   "outputs": [],
   "source": [
    "X_tensor = tf.placeholder(tf.float32, [None, num_features])\n",
    "y_tensor = tf.placeholder(tf.float32, [None, num_classes])"
   ]
  },
  {
   "cell_type": "markdown",
   "metadata": {},
   "source": [
    "### TensorFlow Graph\n",
    "Use functions to create TensorFlow graph.\n",
    "\n",
    "#### Softmax Layer"
   ]
  },
  {
   "cell_type": "code",
   "execution_count": 16,
   "metadata": {},
   "outputs": [],
   "source": [
    "def softmax_layer(X, num_classes, num_features):\n",
    "    \"\"\"\n",
    "    Create softmax layer. This is the decision making layer, classifying \n",
    "    the cluster group for each row in the feature tensor.\n",
    "    \n",
    "    Parameters:\n",
    "    ----------\n",
    "    X: Tensor\n",
    "        Features tensor.\n",
    "    num_classes: int\n",
    "        Number of unique clusters used for classification.\n",
    "    num_features:\n",
    "        Number of different features in the features tensor.\n",
    "        \n",
    "    Returns:\n",
    "    --------\n",
    "    Tensor\n",
    "    \n",
    "    \"\"\"\n",
    "    W = tf.Variable(tf.zeros([num_features, num_classes]))\n",
    "    b = tf.Variable(tf.zeros([num_classes]))\n",
    "    y = tf.nn.softmax(tf.matmul(X, W) + b)\n",
    "    return y"
   ]
  },
  {
   "cell_type": "code",
   "execution_count": 17,
   "metadata": {},
   "outputs": [],
   "source": [
    "logits = softmax_layer(X_tensor, num_classes, num_features)"
   ]
  },
  {
   "cell_type": "markdown",
   "metadata": {},
   "source": [
    "#### Cost Function"
   ]
  },
  {
   "cell_type": "code",
   "execution_count": 18,
   "metadata": {},
   "outputs": [],
   "source": [
    "def cost_function(logits, y):\n",
    "    \"\"\"\n",
    "    Create the cost function.\n",
    "    \n",
    "    Parameters:\n",
    "    ----------\n",
    "    logits: Tensor\n",
    "        Output from the softmax layer.\n",
    "    y: Tensor\n",
    "        Labels tensor.\n",
    "    \n",
    "    Returns:\n",
    "    -------\n",
    "    Tensor\n",
    "    \n",
    "    \"\"\"\n",
    "    cost = -tf.reduce_mean(y * tf.log(logits))\n",
    "    return cost"
   ]
  },
  {
   "cell_type": "code",
   "execution_count": 19,
   "metadata": {},
   "outputs": [],
   "source": [
    "cost = cost_function(logits, y_tensor)"
   ]
  },
  {
   "cell_type": "markdown",
   "metadata": {},
   "source": [
    "#### Training Step"
   ]
  },
  {
   "cell_type": "code",
   "execution_count": 20,
   "metadata": {},
   "outputs": [],
   "source": [
    "def train(cost, learning_rate):\n",
    "    \"\"\"\n",
    "    Function to perform the model training.\n",
    "    \n",
    "    Parameters:\n",
    "    ----------\n",
    "    cost: Tensor\n",
    "        The tensor created by the cost function.\n",
    "    learning_rate: float\n",
    "        The learning rate.\n",
    "        \n",
    "    Returns:\n",
    "    -------\n",
    "    Operation\n",
    "    \n",
    "    \"\"\"\n",
    "    training_step = tf.train.GradientDescentOptimizer(learning_rate).minimize(cost)\n",
    "    return training_step"
   ]
  },
  {
   "cell_type": "code",
   "execution_count": 21,
   "metadata": {},
   "outputs": [],
   "source": [
    "training_step = train(cost, learning_rate)"
   ]
  },
  {
   "cell_type": "markdown",
   "metadata": {},
   "source": [
    "#### Accuracy"
   ]
  },
  {
   "cell_type": "code",
   "execution_count": 22,
   "metadata": {},
   "outputs": [],
   "source": [
    "def compute_accuracy(logits, y):\n",
    "    \"\"\"\n",
    "    Compute the final accuracy.\n",
    "    \n",
    "    Parameters:\n",
    "    ----------\n",
    "    logits: Tensor\n",
    "        The output of the softmax layer.\n",
    "    y: Tensor\n",
    "        The tensor containing the labels.\n",
    "        \n",
    "    Return:\n",
    "    ------\n",
    "    Tensor\n",
    "    \n",
    "    \"\"\"\n",
    "    correct_prediction = tf.equal(tf.argmax(logits, 1), tf.argmax(y, 1))\n",
    "    accuracy = tf.reduce_mean(tf.cast(correct_prediction, \"float\"))\n",
    "    return accuracy"
   ]
  },
  {
   "cell_type": "code",
   "execution_count": 23,
   "metadata": {},
   "outputs": [],
   "source": [
    "accuracy = compute_accuracy(logits, y_tensor)"
   ]
  },
  {
   "cell_type": "markdown",
   "metadata": {},
   "source": [
    "### Train the Model"
   ]
  },
  {
   "cell_type": "code",
   "execution_count": 24,
   "metadata": {},
   "outputs": [
    {
     "name": "stdout",
     "output_type": "stream",
     "text": [
      "Epoch:    0, current cost = 0.340\n",
      "Epoch:  100, current cost = 0.233\n",
      "Epoch:  200, current cost = 0.153\n",
      "Epoch:  300, current cost = 0.177\n",
      "Epoch:  400, current cost = 0.153\n",
      "Epoch:  500, current cost = 0.125\n",
      "Epoch:  600, current cost = 0.171\n",
      "Epoch:  700, current cost = 0.134\n",
      "Epoch:  800, current cost = 0.132\n",
      "Epoch:  900, current cost = 0.127\n",
      "Finished training model.\n",
      "Final accuracy = 0.950\n"
     ]
    }
   ],
   "source": [
    "with tf.Session() as sess:\n",
    "    \n",
    "    tf.global_variables_initializer().run()\n",
    "    \n",
    "    for i in range(epochs):\n",
    "        \n",
    "        X_batch, y_batch = make_batch(X_train, y_train, batch_size)\n",
    "        sess.run(training_step, feed_dict={X_tensor: X_batch, \n",
    "                                           y_tensor: y_batch})\n",
    "        current_cost = sess.run(cost, feed_dict={X_tensor: X_batch, \n",
    "                                                 y_tensor: y_batch})\n",
    "        \n",
    "        # Print average cost periodically\n",
    "        if i % epochs_to_print == 0:\n",
    "            print(\"Epoch: {:4d}, current cost = {:0.3f}\".format(i, current_cost))\n",
    "\n",
    "    print(\"Finished training model.\")\n",
    "    \n",
    "    X_batch, y_batch = make_batch(X_test, y_test, batch_size)\n",
    "    print(\"Final accuracy = {:0.3f}\".format(sess.run(accuracy, \n",
    "                                                     feed_dict={X_tensor: X_test, \n",
    "                                                                y_tensor: y_test})))"
   ]
  },
  {
   "cell_type": "code",
   "execution_count": null,
   "metadata": {},
   "outputs": [],
   "source": []
  }
 ],
 "metadata": {
  "anaconda-cloud": {},
  "kernelspec": {
   "display_name": "Python 3",
   "language": "python",
   "name": "python3"
  },
  "language_info": {
   "codemirror_mode": {
    "name": "ipython",
    "version": 3
   },
   "file_extension": ".py",
   "mimetype": "text/x-python",
   "name": "python",
   "nbconvert_exporter": "python",
   "pygments_lexer": "ipython3",
   "version": "3.6.4"
  },
  "latex_envs": {
   "LaTeX_envs_menu_present": true,
   "autocomplete": true,
   "bibliofile": "biblio.bib",
   "cite_by": "apalike",
   "current_citInitial": 1,
   "eqLabelWithNumbers": true,
   "eqNumInitial": 1,
   "hotkeys": {
    "equation": "Ctrl-E",
    "itemize": "Ctrl-I"
   },
   "labels_anchors": false,
   "latex_user_defs": false,
   "report_style_numbering": false,
   "user_envs_cfg": false
  }
 },
 "nbformat": 4,
 "nbformat_minor": 2
}
