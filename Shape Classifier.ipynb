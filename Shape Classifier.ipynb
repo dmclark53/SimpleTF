{
 "cells": [
  {
   "cell_type": "markdown",
   "metadata": {},
   "source": [
    "# Shape Classifier\n",
    "Shapes will either be circles or polygons. All shapes will have equal dimensions. Shapes can be defined by chosing number of axes. <= 2 == circle, 3 == polygon, 4 == square, >5 == polygon. Shapes will be place randomly in plotting area. Shape sizes will be 50% of plotting area, both of which will be fixed. The user will be able to define the sample size and how many different shapes to classify. Samples will be created in a temporary diretory. If a new sample is created, all old sample images will be replaced."
   ]
  },
  {
   "cell_type": "code",
   "execution_count": 16,
   "metadata": {
    "collapsed": true
   },
   "outputs": [],
   "source": [
    "import numpy as np\n",
    "from matplotlib import pyplot as plt\n",
    "from matplotlib import patches\n",
    "%matplotlib inline"
   ]
  },
  {
   "cell_type": "code",
   "execution_count": 31,
   "metadata": {
    "collapsed": false
   },
   "outputs": [
    {
     "data": {
      "image/png": "[encoded data removed]",
      "text/plain": [
       "<matplotlib.figure.Figure at 0x10e2a6160>"
      ]
     },
     "metadata": {},
     "output_type": "display_data"
    }
   ],
   "source": [
    "fig = plt.figure()\n",
    "ax = fig.add_subplot(111, aspect='equal')\n",
    "ax.add_patch(\n",
    "    patches.Circle(\n",
    "        (0.3, 0.7),\n",
    "        0.2,\n",
    "        fill=False\n",
    "    )\n",
    ")\n",
    "ax.yaxis.set_visible(False)\n",
    "ax.xaxis.set_visible(False)\n",
    "plt.show()"
   ]
  },
  {
   "cell_type": "code",
   "execution_count": 35,
   "metadata": {
    "collapsed": false
   },
   "outputs": [
    {
     "data": {
      "image/png": "[encoded data removed]",
      "text/plain": [
       "<matplotlib.figure.Figure at 0x10db00b00>"
      ]
     },
     "metadata": {},
     "output_type": "display_data"
    }
   ],
   "source": [
    "fig = plt.figure()\n",
    "ax = fig.add_subplot(111, aspect='equal')\n",
    "ax.add_patch(\n",
    "    patches.RegularPolygon(\n",
    "        (0.5, 0.5),\n",
    "        5,\n",
    "        0.2,\n",
    "        fill=False\n",
    "    )\n",
    ")\n",
    "ax.yaxis.set_visible(False)\n",
    "ax.xaxis.set_visible(False)\n",
    "plt.show()"
   ]
  },
  {
   "cell_type": "code",
   "execution_count": null,
   "metadata": {
    "collapsed": true
   },
   "outputs": [],
   "source": []
  }
 ],
 "metadata": {
  "kernelspec": {
   "display_name": "Python 3",
   "language": "python",
   "name": "python3"
  },
  "language_info": {
   "codemirror_mode": {
    "name": "ipython",
    "version": 3
   },
   "file_extension": ".py",
   "mimetype": "text/x-python",
   "name": "python",
   "nbconvert_exporter": "python",
   "pygments_lexer": "ipython3",
   "version": "3.5.2"
  }
 },
 "nbformat": 4,
 "nbformat_minor": 2
}
