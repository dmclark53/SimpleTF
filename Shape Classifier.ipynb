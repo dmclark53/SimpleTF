{
 "cells": [
  {
   "cell_type": "markdown",
   "metadata": {},
   "source": [
    "# Shape Classifier\n",
    "Shapes will either be circles or polygons. All shapes will have equal dimensions. Shapes can be defined by chosing number of axes. <= 2 == circle, 3 == polygon, 4 == square, >5 == polygon. Shapes will be place randomly in plotting area. Shape sizes will be 50% of plotting area, both of which will be fixed. The user will be able to define the sample size and how many different shapes to classify. Samples will be created in a temporary diretory. If a new sample is created, all old sample images will be replaced."
   ]
  },
  {
   "cell_type": "code",
   "execution_count": 155,
   "metadata": {},
   "outputs": [],
   "source": [
    "import numpy as np\n",
    "from matplotlib.backends.backend_agg import FigureCanvasAgg as FigureCanvas\n",
    "from matplotlib import pyplot as plt\n",
    "import matplotlib.pyplot as plt\n",
    "from matplotlib import patches\n",
    "%matplotlib inline"
   ]
  },
  {
   "cell_type": "code",
   "execution_count": 158,
   "metadata": {},
   "outputs": [
    {
     "name": "stdout",
     "output_type": "stream",
     "text": [
      "Image size = 7200\n"
     ]
    },
    {
     "data": {
      "image/png": "[encoded data removed]",
      "text/plain": [
       "<matplotlib.figure.Figure at 0x11560fd68>"
      ]
     },
     "metadata": {},
     "output_type": "display_data"
    }
   ],
   "source": [
    "min_pos = 0 + int(radius*10 / 2)\n",
    "max_pos = 10 - int(radius*10 / 2)\n",
    "pos_1 = np.random.randint(min_pos, max_pos + 1)\n",
    "pos_2 = np.random.randint(min_pos, max_pos + 1)\n",
    "fig = plt.figure(dpi=10)\n",
    "canvas = FigureCanvas(fig)\n",
    "ax = fig.add_subplot(111, aspect='equal')\n",
    "ax.add_patch(\n",
    "    patches.Circle(\n",
    "        (pos_1, pos_2),\n",
    "        radius,\n",
    "        fill=False,\n",
    "        linewidth=15\n",
    "    )\n",
    ")\n",
    "ax.yaxis.set_visible(False)\n",
    "ax.xaxis.set_visible(False)\n",
    "ax.axis('off')\n",
    "canvas.draw()\n",
    "image = np.fromstring(canvas.tostring_rgb(), dtype='uint8')\n",
    "print('Image size = {}'.format(image.shape[0]))\n",
    "plt.show()"
   ]
  },
  {
   "cell_type": "code",
   "execution_count": 83,
   "metadata": {},
   "outputs": [
    {
     "name": "stdout",
     "output_type": "stream",
     "text": [
      "Image size = 7200\n"
     ]
    }
   ],
   "source": [
    "fig = plt.figure(dpi=10)\n",
    "canvas = FigureCanvas(fig)\n",
    "ax = fig.add_subplot(111, aspect='equal')\n",
    "ax.add_patch(\n",
    "    patches.RegularPolygon(\n",
    "        (0.5, 0.5),\n",
    "        5,\n",
    "        0.2,\n",
    "        fill=False,\n",
    "        linewidth=15\n",
    "    )\n",
    ")\n",
    "ax.yaxis.set_visible(False)\n",
    "ax.xaxis.set_visible(False)\n",
    "ax.axis('off')\n",
    "canvas.draw()\n",
    "image = np.fromstring(canvas.tostring_rgb(), dtype='uint8')\n",
    "print('Image size = {}'.format(image.shape[0]))\n",
    "plt.close(fig)"
   ]
  },
  {
   "cell_type": "code",
   "execution_count": 108,
   "metadata": {
    "collapsed": true
   },
   "outputs": [],
   "source": [
    "def make_circle(radius): \n",
    "    min_pos = 0 + int(radius*10 / 2)\n",
    "    max_pos = 1 - int(radius*10 / 2)\n",
    "    pos_1 = np.randint(min_pos, max_pos + 1)\n",
    "    pos_2 = np.randint(min_pos, max_pos + 1)\n",
    "    fig = plt.figure(dpi=10)\n",
    "    canvas = FigureCanvas(fig)\n",
    "    ax = fig.add_subplot(111, aspect='equal')\n",
    "    ax.add_patch(\n",
    "        patches.Circle(\n",
    "            (pos_1, pos_2),\n",
    "            radius,\n",
    "            fill=False,\n",
    "            linewidth=15\n",
    "        )\n",
    "    )\n",
    "    ax.yaxis.set_visible(False)\n",
    "    ax.xaxis.set_visible(False)\n",
    "    ax.axis('off')\n",
    "    canvas.draw()\n",
    "    image = np.fromstring(canvas.tostring_rgb(), dtype='uint8')\n",
    "    plt.close(fig)\n",
    "    return image"
   ]
  },
  {
   "cell_type": "code",
   "execution_count": 138,
   "metadata": {
    "collapsed": true
   },
   "outputs": [],
   "source": [
    "def make_polygon(size, num_corners):\n",
    "    min_pos = 0 + int(radius*10 / 2)\n",
    "    max_pos = 1 - int(radius*10 / 2)\n",
    "    pos_1 = np.randint(min_pos, max_pos + 1)\n",
    "    pos_2 = np.randint(min_pos, max_pos + 1)\n",
    "    fig = plt.figure(dpi=10)\n",
    "    canvas = FigureCanvas(fig)\n",
    "    ax = fig.add_subplot(111, aspect='equal')\n",
    "    ax.add_patch(\n",
    "        patches.RegularPolygon(\n",
    "            (pos_1, pos_2),\n",
    "            num_corners,\n",
    "            size,\n",
    "            fill=False,\n",
    "            linewidth=15\n",
    "        )\n",
    "    )\n",
    "    ax.yaxis.set_visible(False)\n",
    "    ax.xaxis.set_visible(False)\n",
    "    ax.axis('off')\n",
    "    canvas.draw()\n",
    "    image = np.fromstring(canvas.tostring_rgb(), dtype='uint8')\n",
    "    plt.close(fig)\n",
    "    return image"
   ]
  },
  {
   "cell_type": "code",
   "execution_count": 139,
   "metadata": {
    "collapsed": true
   },
   "outputs": [],
   "source": [
    "def generate_shapes(num_shapes, size, num_corners):\n",
    "    shapes = []\n",
    "    for _ in range(num_shapes):\n",
    "        if num_corners < 3:\n",
    "            shapes.append(make_circle(size))\n",
    "        else:\n",
    "            shapes.append(make_polygon(size, num_corners))\n",
    "    return np.array(shapes)"
   ]
  },
  {
   "cell_type": "code",
   "execution_count": 142,
   "metadata": {},
   "outputs": [],
   "source": [
    "my_shapes = generate_shapes(300, 0.2, 0)"
   ]
  },
  {
   "cell_type": "code",
   "execution_count": 143,
   "metadata": {},
   "outputs": [
    {
     "data": {
      "text/plain": [
       "(300, 7200)"
      ]
     },
     "execution_count": 143,
     "metadata": {},
     "output_type": "execute_result"
    }
   ],
   "source": [
    "my_shapes.shape"
   ]
  },
  {
   "cell_type": "code",
   "execution_count": null,
   "metadata": {
    "collapsed": true
   },
   "outputs": [],
   "source": []
  }
 ],
 "metadata": {
  "kernelspec": {
   "display_name": "Python 3",
   "language": "python",
   "name": "python3"
  },
  "language_info": {
   "codemirror_mode": {
    "name": "ipython",
    "version": 3
   },
   "file_extension": ".py",
   "mimetype": "text/x-python",
   "name": "python",
   "nbconvert_exporter": "python",
   "pygments_lexer": "ipython3",
   "version": "3.6.4"
  },
  "latex_envs": {
   "LaTeX_envs_menu_present": true,
   "autocomplete": true,
   "bibliofile": "biblio.bib",
   "cite_by": "apalike",
   "current_citInitial": 1,
   "eqLabelWithNumbers": true,
   "eqNumInitial": 1,
   "hotkeys": {
    "equation": "Ctrl-E",
    "itemize": "Ctrl-I"
   },
   "labels_anchors": false,
   "latex_user_defs": false,
   "report_style_numbering": false,
   "user_envs_cfg": false
  }
 },
 "nbformat": 4,
 "nbformat_minor": 2
}
